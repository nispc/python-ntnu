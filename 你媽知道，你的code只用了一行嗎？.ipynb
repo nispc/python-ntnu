{
 "cells": [
  {
   "cell_type": "markdown",
   "metadata": {
    "slideshow": {
     "slide_type": "slide"
    }
   },
   "source": [
    "你媽知道，你的code只用了一行嗎？\n",
    "====\n",
    "#### Does Your Mother Know You Write Your Program in Only One Line?\n",
    "\n",
    "倪鈵斯@NTNU-CIC"
   ]
  },
  {
   "cell_type": "markdown",
   "metadata": {
    "slideshow": {
     "slide_type": "skip"
    }
   },
   "source": [
    "----"
   ]
  },
  {
   "cell_type": "markdown",
   "metadata": {
    "slideshow": {
     "slide_type": "slide"
    }
   },
   "source": [
    "Outline\n",
    "---\n",
    "To write programs in one line, you will lean some skills like\n",
    "* list comprehension\n",
    "* generator\n",
    "* ~~lambda expression~~ (時間太短來不及準備QQ)\n",
    "* if expression(inline)\n",
    "* ~~tuple and set's~~"
   ]
  },
  {
   "cell_type": "markdown",
   "metadata": {
    "slideshow": {
     "slide_type": "skip"
    }
   },
   "source": [
    "----"
   ]
  },
  {
   "cell_type": "markdown",
   "metadata": {
    "slideshow": {
     "slide_type": "slide"
    }
   },
   "source": [
    "## Goal\n",
    "如果你越來越能只用一行code寫Python，可能代表\n",
    "\n",
    "* 你對python的資料型別越來越熟悉\n",
    "* 你越來越能善用python的expression及BIF\n",
    "* 你的語法越來越簡潔（通常是好事）"
   ]
  },
  {
   "cell_type": "markdown",
   "metadata": {
    "slideshow": {
     "slide_type": "skip"
    }
   },
   "source": [
    "----"
   ]
  },
  {
   "cell_type": "markdown",
   "metadata": {
    "slideshow": {
     "slide_type": "slide"
    }
   },
   "source": [
    "list comprehension - Simple case\n",
    "--"
   ]
  },
  {
   "cell_type": "markdown",
   "metadata": {
    "slideshow": {
     "slide_type": "fragment"
    }
   },
   "source": [
    "### The Simplest Case"
   ]
  },
  {
   "cell_type": "code",
   "execution_count": 1,
   "metadata": {
    "collapsed": false
   },
   "outputs": [
    {
     "data": {
      "text/plain": [
       "[0, 1, 2, 3, 4, 5, 6, 7, 8, 9]"
      ]
     },
     "execution_count": 1,
     "metadata": {},
     "output_type": "execute_result"
    }
   ],
   "source": [
    "# with Generator\n",
    "[i for i in range(10)]"
   ]
  },
  {
   "cell_type": "markdown",
   "metadata": {
    "slideshow": {
     "slide_type": "subslide"
    }
   },
   "source": [
    "### Compare \"Traditional way\" with \"List Comprehension\""
   ]
  },
  {
   "cell_type": "code",
   "execution_count": 2,
   "metadata": {
    "collapsed": false
   },
   "outputs": [
    {
     "data": {
      "text/plain": [
       "[0, 1, 2, 3, 4, 5, 6, 7, 8, 9]"
      ]
     },
     "execution_count": 2,
     "metadata": {},
     "output_type": "execute_result"
    }
   ],
   "source": [
    "# Traditional way\n",
    "list_ = []\n",
    "for i in range(10):   # <- for expression & iterable object\n",
    "    list_.append(i)   # <- each item\n",
    "\n",
    "list_"
   ]
  },
  {
   "cell_type": "code",
   "execution_count": 3,
   "metadata": {
    "collapsed": false
   },
   "outputs": [
    {
     "data": {
      "text/plain": [
       "[0, 1, 2, 3, 4, 5, 6, 7, 8, 9]"
      ]
     },
     "execution_count": 3,
     "metadata": {},
     "output_type": "execute_result"
    }
   ],
   "source": [
    "# List Comprehension\n",
    "[i                    # <- each item\n",
    "     for i in         # <- for expression\n",
    "         range(10)    # <- iterable object\n",
    "]"
   ]
  },
  {
   "cell_type": "markdown",
   "metadata": {
    "slideshow": {
     "slide_type": "skip"
    }
   },
   "source": [
    "----"
   ]
  },
  {
   "cell_type": "markdown",
   "metadata": {
    "slideshow": {
     "slide_type": "subslide"
    }
   },
   "source": [
    "### Other iterable Object (1)"
   ]
  },
  {
   "cell_type": "code",
   "execution_count": 4,
   "metadata": {
    "collapsed": false
   },
   "outputs": [
    {
     "data": {
      "text/plain": [
       "['T', 'h', 'i', 's', ' ', 'i', 's', ' ', 'a', ' ', 'b', 'o', 'o', 'k', '.']"
      ]
     },
     "execution_count": 4,
     "metadata": {},
     "output_type": "execute_result"
    }
   ],
   "source": [
    "# String\n",
    "[i for i in 'This is a book.']"
   ]
  },
  {
   "cell_type": "code",
   "execution_count": 5,
   "metadata": {
    "collapsed": false
   },
   "outputs": [
    {
     "data": {
      "text/plain": [
       "['#1: Spring', '#2: Summer', '#3: Fall', '#4: Winter']"
      ]
     },
     "execution_count": 5,
     "metadata": {},
     "output_type": "execute_result"
    }
   ],
   "source": [
    "# List with enumerate\n",
    "['#{}: {}'.format(index, value) for index, value in enumerate(['Spring', 'Summer', 'Fall', 'Winter'], 1)]\n",
    "\n",
    "# ['#{}: {}'.format(index, value)  # <- each item\n",
    "#     for index, value in          # <- for expression\n",
    "#         enumerate( \n",
    "#             [\n",
    "#                 'Spring', \n",
    "#                 'Summer', \n",
    "#                 'Fall',          # <- iterable object [(1, 'Spring'), ...]\n",
    "#                 'Winter'\n",
    "#             ])\n",
    "# ]\n",
    "#\n",
    "# # Tuple Assignment\n",
    "# (x, y) = (10, 20) # or only x, y = 10, 20\n",
    "# # even you can do it:\n",
    "# x, y = y, x"
   ]
  },
  {
   "cell_type": "code",
   "execution_count": 6,
   "metadata": {
    "collapsed": false,
    "slideshow": {
     "slide_type": "subslide"
    }
   },
   "outputs": [
    {
     "name": "stdout",
     "output_type": "stream",
     "text": [
      "#1: Spring\n",
      "#2: Summer\n",
      "#3: Fall\n",
      "#4: Winter\n"
     ]
    }
   ],
   "source": [
    "# ...and print it\n",
    "print('\\n'.join(['#{}: {}'.format(index, value) for index, value in enumerate(['Spring', 'Summer', 'Fall', 'Winter'], 1)]))"
   ]
  },
  {
   "cell_type": "markdown",
   "metadata": {
    "slideshow": {
     "slide_type": "skip"
    }
   },
   "source": [
    "----"
   ]
  },
  {
   "cell_type": "markdown",
   "metadata": {
    "slideshow": {
     "slide_type": "subslide"
    }
   },
   "source": [
    "### Other iterable Object (2)"
   ]
  },
  {
   "cell_type": "code",
   "execution_count": 7,
   "metadata": {
    "collapsed": false
   },
   "outputs": [
    {
     "data": {
      "text/plain": [
       "['hane1818', 'nispc']"
      ]
     },
     "execution_count": 7,
     "metadata": {},
     "output_type": "execute_result"
    }
   ],
   "source": [
    "# Dict\n",
    "[i for i in {'hane1818': 99, 'nispc': 87}]\n",
    "\n",
    "# [i                                         # <- each item\n",
    "#      for i in                              # <- for expression\n",
    "#          {'hane1818': 99, 'nispc': 87}     # <- iterable object\n",
    "# ]"
   ]
  },
  {
   "cell_type": "code",
   "execution_count": 8,
   "metadata": {
    "collapsed": false,
    "slideshow": {
     "slide_type": "subslide"
    }
   },
   "outputs": [
    {
     "data": {
      "text/plain": [
       "['hane1818: 99 分', 'nispc: 87 分']"
      ]
     },
     "execution_count": 8,
     "metadata": {},
     "output_type": "execute_result"
    }
   ],
   "source": [
    "# Dict with .items method\n",
    "['{}: {} 分'.format(key, val) for key, val in {'hane1818': 99, 'nispc': 87}.items()] \n",
    "# data mining's scores\n",
    "\n",
    "# ['{}: {} 分'.format(key, val)                      # <- each item\n",
    "#      for key, val in                               # <- for expression\n",
    "#          {'hane1818': 99, 'nispc': 87}.items()     # <- [('nispc', 75), ('hane1818', 99)] \n",
    "# ]\n",
    "\n",
    "# # Tuple Assignment\n",
    "# (x, y) = (10, 20) # or only x, y = 10, 20\n",
    "# # even you can do it:\n",
    "# x, y = y, x"
   ]
  },
  {
   "cell_type": "code",
   "execution_count": 9,
   "metadata": {
    "collapsed": false
   },
   "outputs": [
    {
     "name": "stdout",
     "output_type": "stream",
     "text": [
      "hane1818: 99 分\n",
      "nispc:    87 分\n"
     ]
    }
   ],
   "source": [
    "# ...and print it\n",
    "print('\\n'.join(['{:10s}{} 分'.format(key+':', val) for key, val in {'hane1818': 99, 'nispc': 87}.items()]))"
   ]
  },
  {
   "cell_type": "markdown",
   "metadata": {
    "slideshow": {
     "slide_type": "subslide"
    }
   },
   "source": [
    "# Q&A\n",
    "* 為什麼印出來的順序跟指定時的順序不一樣呢？"
   ]
  },
  {
   "cell_type": "markdown",
   "metadata": {
    "slideshow": {
     "slide_type": "subslide"
    }
   },
   "source": [
    "### 練習題"
   ]
  },
  {
   "cell_type": "code",
   "execution_count": 10,
   "metadata": {
    "collapsed": true
   },
   "outputs": [],
   "source": [
    "name = ['nispc', 'hane', 'one5809', 'orange']\n",
    "height = [150, 160, 170, 180]\n",
    "weight = [50, 60, 70, 80]\n",
    "\n",
    "# Problem: Use one line to calculate their BMI\n",
    "#\n",
    "# Output Example:\n",
    "# [('nispc', 22.22222222222222),\n",
    "#  ('hane', 23.437499999999996),\n",
    "#  ('one5809', 24.221453287197235),\n",
    "#  ('orange', 24.691358024691358)]\n",
    "#\n",
    "# Hint: You Can Google How to use zip()."
   ]
  },
  {
   "cell_type": "code",
   "execution_count": 11,
   "metadata": {
    "collapsed": false,
    "slideshow": {
     "slide_type": "subslide"
    }
   },
   "outputs": [],
   "source": [
    "# My Answer:\n",
    "bmi = [(name, weight/(height/100)**2) for name, height, weight in zip(name, height, weight)]\n",
    "\n",
    "# [(name, weight/(height/100)**2)        # <- each item\n",
    "#      for name, height, weight in       # <- for expression\n",
    "#          zip(name, height, weight)     # <- [('nispc', 150, 50) ...] \n",
    "# ]"
   ]
  },
  {
   "cell_type": "markdown",
   "metadata": {
    "slideshow": {
     "slide_type": "slide"
    }
   },
   "source": [
    "## list comprehension - as filter"
   ]
  },
  {
   "cell_type": "markdown",
   "metadata": {
    "slideshow": {
     "slide_type": "fragment"
    }
   },
   "source": [
    "### The Simplest Case"
   ]
  },
  {
   "cell_type": "code",
   "execution_count": 12,
   "metadata": {
    "collapsed": false,
    "slideshow": {
     "slide_type": "-"
    }
   },
   "outputs": [
    {
     "data": {
      "text/plain": [
       "[1, 3, 5, 7, 9]"
      ]
     },
     "execution_count": 12,
     "metadata": {},
     "output_type": "execute_result"
    }
   ],
   "source": [
    "[i for i in range(10) if i % 2]"
   ]
  },
  {
   "cell_type": "code",
   "execution_count": 13,
   "metadata": {
    "collapsed": false,
    "slideshow": {
     "slide_type": "subslide"
    }
   },
   "outputs": [
    {
     "data": {
      "text/plain": [
       "[('nispc', 22.22222222222222),\n",
       " ('hane', 23.437499999999996),\n",
       " ('one5809', 24.221453287197235),\n",
       " ('orange', 24.691358024691358)]"
      ]
     },
     "execution_count": 13,
     "metadata": {},
     "output_type": "execute_result"
    }
   ],
   "source": [
    "bmi"
   ]
  },
  {
   "cell_type": "code",
   "execution_count": 14,
   "metadata": {
    "collapsed": false
   },
   "outputs": [
    {
     "data": {
      "text/plain": [
       "[('one5809', 24.221453287197235), ('orange', 24.691358024691358)]"
      ]
     },
     "execution_count": 14,
     "metadata": {},
     "output_type": "execute_result"
    }
   ],
   "source": [
    "# select \n",
    "\n",
    "[(name, val) for name, val in bmi if val >= 24]"
   ]
  },
  {
   "cell_type": "code",
   "execution_count": 15,
   "metadata": {
    "collapsed": false,
    "slideshow": {
     "slide_type": "subslide"
    }
   },
   "outputs": [
    {
     "data": {
      "text/plain": [
       "{'hane': 23.437499999999996,\n",
       " 'nispc': 22.22222222222222,\n",
       " 'one5809': 24.221453287197235,\n",
       " 'orange': 24.691358024691358}"
      ]
     },
     "execution_count": 15,
     "metadata": {},
     "output_type": "execute_result"
    }
   ],
   "source": [
    "bmi_ = {name: val for name, val in bmi}\n",
    "\n",
    "bmi_"
   ]
  },
  {
   "cell_type": "code",
   "execution_count": 16,
   "metadata": {
    "collapsed": false
   },
   "outputs": [
    {
     "data": {
      "text/plain": [
       "[('one5809', 24.221453287197235), ('orange', 24.691358024691358)]"
      ]
     },
     "execution_count": 16,
     "metadata": {},
     "output_type": "execute_result"
    }
   ],
   "source": [
    "[(name, val) for name, val in bmi_.items() if val >= 24]"
   ]
  },
  {
   "cell_type": "markdown",
   "metadata": {
    "slideshow": {
     "slide_type": "notes"
    }
   },
   "source": [
    "# 學妹的悲劇"
   ]
  },
  {
   "cell_type": "markdown",
   "metadata": {
    "slideshow": {
     "slide_type": "subslide"
    }
   },
   "source": [
    "\n",
    "## 你媽知道你只用一行code找質數嗎？"
   ]
  },
  {
   "cell_type": "code",
   "execution_count": 17,
   "metadata": {
    "collapsed": false
   },
   "outputs": [
    {
     "data": {
      "text/plain": [
       "[2, 3, 5, 7, 11, 13, 17, 19, 23, 29, 31, 37, 41, 43, 47]"
      ]
     },
     "execution_count": 17,
     "metadata": {},
     "output_type": "execute_result"
    }
   ],
   "source": [
    "# Adapting from http://www.secnetix.de/olli/Python/list_comprehensions.hawk\n",
    "#\n",
    "# noprimes = [j \n",
    "#                 for i in range(2, 8)\n",
    "#                         for j in range(i*2, 50, i)\n",
    "#            ]\n",
    "# primes = [x \n",
    "#               for x in \n",
    "#                   range(2, 50) \n",
    "#                         if x not in noprimes\n",
    "# ]\n",
    "# print(noprimes) # set(noprimes)\n",
    "# print(primes)\n",
    "\n",
    "[x for x in range(2, 50) if x not in [j for i in range(2, 8) for j in range(i*2, 50, i)]]"
   ]
  },
  {
   "cell_type": "markdown",
   "metadata": {
    "slideshow": {
     "slide_type": "subslide"
    }
   },
   "source": [
    "### Another Way"
   ]
  },
  {
   "cell_type": "code",
   "execution_count": 18,
   "metadata": {
    "collapsed": false,
    "slideshow": {
     "slide_type": "-"
    }
   },
   "outputs": [
    {
     "data": {
      "text/plain": [
       "[2, 3, 5, 7, 11, 13, 17, 19, 23, 29, 31, 37, 41, 43, 47]"
      ]
     },
     "execution_count": 18,
     "metadata": {},
     "output_type": "execute_result"
    }
   ],
   "source": [
    "# Adapting from form Mosky's Timeline\n",
    "[n for n in range(2, 50) if not any([n % i == 0 for i in range(2, n)])]\n",
    "\n",
    "# [ \n",
    "#     n\n",
    "#     for n in \n",
    "#         range(2, 50)\n",
    "#         if not any(\n",
    "#             n % i == 0 for i in range(2, n)\n",
    "#         )\n",
    "# ]"
   ]
  },
  {
   "cell_type": "markdown",
   "metadata": {
    "slideshow": {
     "slide_type": "slide"
    }
   },
   "source": [
    "## List Comprehension with If  expression"
   ]
  },
  {
   "cell_type": "code",
   "execution_count": 19,
   "metadata": {
    "collapsed": false,
    "slideshow": {
     "slide_type": "fragment"
    }
   },
   "outputs": [
    {
     "data": {
      "text/plain": [
       "['Hey~',\n",
       " 'Yo~~',\n",
       " 'Hey~',\n",
       " 'Yo~~',\n",
       " 'Hey~',\n",
       " 'Yo~~',\n",
       " 'Hey~',\n",
       " 'Yo~~',\n",
       " 'Hey~',\n",
       " 'Yo~~']"
      ]
     },
     "execution_count": 19,
     "metadata": {},
     "output_type": "execute_result"
    }
   ],
   "source": [
    "['Yo~~' if i%2 else 'Hey~' for i in range(10)]"
   ]
  },
  {
   "cell_type": "markdown",
   "metadata": {
    "slideshow": {
     "slide_type": "subslide"
    }
   },
   "source": [
    "## 你媽知道你只用一行code清理資料嗎？"
   ]
  },
  {
   "cell_type": "code",
   "execution_count": 20,
   "metadata": {
    "collapsed": false
   },
   "outputs": [],
   "source": [
    "numbers = [50.9, 70.8, '   20', 90, 70.1, '99.999\\t']"
   ]
  },
  {
   "cell_type": "code",
   "execution_count": 21,
   "metadata": {
    "collapsed": false,
    "slideshow": {
     "slide_type": "fragment"
    }
   },
   "outputs": [
    {
     "ename": "TypeError",
     "evalue": "unsupported operand type(s) for +: 'float' and 'str'",
     "output_type": "error",
     "traceback": [
      "\u001b[0;31m---------------------------------------------------------------------------\u001b[0m",
      "\u001b[0;31mTypeError\u001b[0m                                 Traceback (most recent call last)",
      "\u001b[0;32m<ipython-input-21-73ee437a0094>\u001b[0m in \u001b[0;36m<module>\u001b[0;34m()\u001b[0m\n\u001b[0;32m----> 1\u001b[0;31m \u001b[0msum\u001b[0m\u001b[0;34m(\u001b[0m\u001b[0mnumbers\u001b[0m\u001b[0;34m)\u001b[0m\u001b[0;34m\u001b[0m\u001b[0m\n\u001b[0m",
      "\u001b[0;31mTypeError\u001b[0m: unsupported operand type(s) for +: 'float' and 'str'"
     ]
    }
   ],
   "source": [
    "sum(numbers)"
   ]
  },
  {
   "cell_type": "code",
   "execution_count": null,
   "metadata": {
    "collapsed": false,
    "slideshow": {
     "slide_type": "subslide"
    }
   },
   "outputs": [],
   "source": [
    "sum([float(i) if isinstance(i, str) else i for i in numbers])"
   ]
  },
  {
   "cell_type": "markdown",
   "metadata": {
    "slideshow": {
     "slide_type": "subslide"
    }
   },
   "source": [
    "# 練習題"
   ]
  },
  {
   "cell_type": "markdown",
   "metadata": {
    "collapsed": false
   },
   "source": [
    "使用今天教的功能：\n",
    "\n",
    "* 寫質數\n",
    "* 畫聖誕樹"
   ]
  },
  {
   "cell_type": "code",
   "execution_count": null,
   "metadata": {
    "collapsed": false,
    "slideshow": {
     "slide_type": "slide"
    }
   },
   "outputs": [],
   "source": [
    "# 寫質數\n",
    "[n for n in range(2, 100) if not any([n % i == 0 for i in range(2, n)])]\n",
    "[n for n in range(2, 50) if not len([True for i in range(2, n) if not n%i])]\n",
    "[n for n in range(2, 100) if not [True for i in range(2, n) if not n%i]]"
   ]
  },
  {
   "cell_type": "code",
   "execution_count": null,
   "metadata": {
    "collapsed": false,
    "slideshow": {
     "slide_type": "subslide"
    }
   },
   "outputs": [],
   "source": [
    "%%timeit\n",
    "\n",
    "[n for n in range(2, 1000) if not any(n % i == 0 for i in range(2, n))]"
   ]
  },
  {
   "cell_type": "code",
   "execution_count": null,
   "metadata": {
    "collapsed": false
   },
   "outputs": [],
   "source": [
    "%%timeit\n",
    "\n",
    "[n for n in range(2, 1000) if not any([n % i == 0 for i in range(2, n)])]"
   ]
  },
  {
   "cell_type": "code",
   "execution_count": null,
   "metadata": {
    "collapsed": false
   },
   "outputs": [],
   "source": [
    "%%timeit\n",
    "\n",
    "[n for n in range(2, 1000) if not [True for i in range(2, n) if not n%i]]"
   ]
  },
  {
   "cell_type": "code",
   "execution_count": null,
   "metadata": {
    "collapsed": false
   },
   "outputs": [],
   "source": [
    "%%timeit\n",
    "\n",
    "x = [i for i in range(100000)]"
   ]
  },
  {
   "cell_type": "markdown",
   "metadata": {
    "slideshow": {
     "slide_type": "notes"
    }
   },
   "source": [
    "# 賣劉慈恩"
   ]
  },
  {
   "cell_type": "code",
   "execution_count": null,
   "metadata": {
    "collapsed": true
   },
   "outputs": [],
   "source": []
  }
 ],
 "metadata": {
  "celltoolbar": "Slideshow",
  "kernelspec": {
   "display_name": "Python 3",
   "language": "python",
   "name": "python3"
  },
  "language_info": {
   "codemirror_mode": {
    "name": "ipython",
    "version": 3
   },
   "file_extension": ".py",
   "mimetype": "text/x-python",
   "name": "python",
   "nbconvert_exporter": "python",
   "pygments_lexer": "ipython3",
   "version": "3.4.3"
  }
 },
 "nbformat": 4,
 "nbformat_minor": 0
}
